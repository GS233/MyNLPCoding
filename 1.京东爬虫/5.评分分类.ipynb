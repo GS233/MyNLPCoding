{
 "cells": [
  {
   "cell_type": "code",
   "execution_count": 10,
   "metadata": {},
   "outputs": [],
   "source": [
    "import os\n",
    "import pandas as pd\n",
    "import numpy as np"
   ]
  },
  {
   "cell_type": "code",
   "execution_count": 11,
   "metadata": {},
   "outputs": [],
   "source": [
    "data = pd.read_csv(\"00.4.去除停用词.csv\",encoding = \"utf-8\")"
   ]
  },
  {
   "cell_type": "code",
   "execution_count": 12,
   "metadata": {},
   "outputs": [],
   "source": [
    "comment = data['评论']\n",
    "score = data['评分']\n",
    "cuted = data['分词']"
   ]
  },
  {
   "cell_type": "code",
   "execution_count": 13,
   "metadata": {},
   "outputs": [
    {
     "data": {
      "text/plain": [
       "5"
      ]
     },
     "execution_count": 13,
     "metadata": {},
     "output_type": "execute_result"
    }
   ],
   "source": [
    "score[12]"
   ]
  },
  {
   "cell_type": "code",
   "execution_count": 14,
   "metadata": {},
   "outputs": [],
   "source": [
    "def sim_labels(scores):\n",
    "    result = []\n",
    "    for score in scores:\n",
    "        if (score==1) | (score==2):\n",
    "            result.append(1)\n",
    "        elif score==3:\n",
    "            result.append(2)\n",
    "        else:\n",
    "            result.append(3)\n",
    "    return result"
   ]
  },
  {
   "cell_type": "code",
   "execution_count": 15,
   "metadata": {},
   "outputs": [],
   "source": [
    "rst_score = pd.Series(sim_labels(score))"
   ]
  },
  {
   "cell_type": "code",
   "execution_count": 16,
   "metadata": {},
   "outputs": [
    {
     "name": "stdout",
     "output_type": "stream",
     "text": [
      "                                                      评论  分数  \\\n",
      "0      外形外观：外观很棒，正面屏幕很好，屏占比很大，支持人脸解锁，背面磨砂质感超好，单手持握，毫无...   3   \n",
      "1      外形外观：白色的外观更素雅，单手持握，略大一点，2kE5屏清晰度高，色彩艳丽，触控灵敏，Mi...   3   \n",
      "2      外形外观：白色超级好看。性价比：还行 MIUI系统：很流畅 运行速度：很快 外观设计：一般吧...   3   \n",
      "3      外形外观：时尚大方，喜欢背面的材质屏幕音效：屏幕颜色亮丽，显示清晰拍照效果：像素高，效果好运...   3   \n",
      "4      手机收到了，很不错，手机反应很快，照相清晰度也很好！外形外观：时尚大气上档次屏幕音效：屏幕清...   3   \n",
      "...                                                  ...  ..   \n",
      "10106  手机质量很好，做工精细，屏幕很清晰，拍照效果很好，运行速度很快，音质很好，质量也不错，摸着挺...   3   \n",
      "10107  外形外观：外形外观挺好的，屏幕很大，拿起来也挺合适。配置也挺好的。给家里人用正合适。运行速度...   3   \n",
      "10108  小米手机就是，很喜欢，好看，功能不错，也快。千元手机小米性价比我觉得很高了，很满意。家里长辈...   3   \n",
      "10109  手机早就收到了，外观设计风格非常适合，屏幕高清，刚刚的，非常实用，拍照也清晰，日常使用足够了...   3   \n",
      "10110  一下就买了两个手机，老年人必备的神器，老年手机只认红米小金刚，品质杠杠的。性价比最高，价格很...   3   \n",
      "\n",
      "                                                      分词  \n",
      "0      外形 外观 外观 很棒 正面 屏幕 很 好 屏 占 很大 支持 人脸 解锁 背面 磨砂 质感...  \n",
      "1      外形 外观 白色 外观 更 素雅 单 手持 握 略大 一点 2kE5 屏 清晰度 高 色彩艳...  \n",
      "2      外形 外观 白色 超级 好看 性价比 还 行 MIUI 系统 很 流畅 运行 速度 很快 外...  \n",
      "3      外形 外观 时尚 大方 喜欢 背面 材质 屏幕 音效 屏幕 颜色 亮丽 显示 清晰 拍照 效...  \n",
      "4      手机 收到 很 不错 手机 反应 很快 照相 清晰度 很 好 外形 外观 时尚 大气 上档次...  \n",
      "...                                                  ...  \n",
      "10106  手机 质量 很 好 做工 精细 屏幕 很 清晰 拍照 效果 很 好 运行 速度 很快 音质 ...  \n",
      "10107  外形 外观 外形 外观 挺 好 屏幕 很大 起来 挺 合适 配置 挺 好 家里人 正合适 运...  \n",
      "10108  小米 手机 很 喜欢 好看 功能 不错 快 千元 手机 小米 性价比 觉得 很 高 很 满意...  \n",
      "10109  手机 早就 收到 外观设计 风格 非常适合 屏幕 高清 刚刚 非常 实用 拍照 清晰 日常 ...  \n",
      "10110  一下 买 两个 手机 老年人 必备 神器 老年 手机 只 认红米 小金刚 品质 杠杠 性价比...  \n",
      "\n",
      "[10111 rows x 3 columns]\n"
     ]
    }
   ],
   "source": [
    "d = {'评论' : comment,\n",
    "   '分数' : rst_score,\n",
    "   '分词' : cuted}\n",
    "\n",
    "df = pd.DataFrame(d)\n",
    "print(df)"
   ]
  },
  {
   "cell_type": "code",
   "execution_count": 18,
   "metadata": {},
   "outputs": [],
   "source": [
    "df.to_csv(\"105.结果.csv\",index=None)"
   ]
  },
  {
   "cell_type": "code",
   "execution_count": null,
   "metadata": {},
   "outputs": [],
   "source": []
  }
 ],
 "metadata": {
  "kernelspec": {
   "display_name": "Python 3.9.13 ('torch0.10')",
   "language": "python",
   "name": "python3"
  },
  "language_info": {
   "codemirror_mode": {
    "name": "ipython",
    "version": 3
   },
   "file_extension": ".py",
   "mimetype": "text/x-python",
   "name": "python",
   "nbconvert_exporter": "python",
   "pygments_lexer": "ipython3",
   "version": "3.9.13"
  },
  "orig_nbformat": 4,
  "vscode": {
   "interpreter": {
    "hash": "1d06986c84a26559b9f4d334f0fa48521f4646fe7933ed56ce2a38dff6c0e9ca"
   }
  }
 },
 "nbformat": 4,
 "nbformat_minor": 2
}
