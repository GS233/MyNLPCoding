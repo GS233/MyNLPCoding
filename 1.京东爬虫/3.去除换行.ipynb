{
 "cells": [
  {
   "cell_type": "code",
   "execution_count": 8,
   "metadata": {},
   "outputs": [],
   "source": [
    "import pandas as pd\n",
    "import csv\n",
    "path='102.去重.csv'"
   ]
  },
  {
   "cell_type": "code",
   "execution_count": 10,
   "metadata": {},
   "outputs": [],
   "source": [
    "with open(path,encoding='utf-8') as fin:\n",
    "    with open('103.去换行.csv','w',newline='',encoding='utf-8') as fout:\n",
    "        r = csv.reader(fin) #读入文件\n",
    "        w = csv.writer(fout) #写入文件\n",
    "        for row in r:\n",
    "            row = [col.replace('\\\\n', '').replace('\\\\r', '') for col in row] #将\"\\n\"替换为无\n",
    "            w.writerow(row) #写入新文件"
   ]
  },
  {
   "cell_type": "code",
   "execution_count": null,
   "metadata": {},
   "outputs": [],
   "source": []
  }
 ],
 "metadata": {
  "kernelspec": {
   "display_name": "Python 3.9.12 ('pytorch')",
   "language": "python",
   "name": "python3"
  },
  "language_info": {
   "codemirror_mode": {
    "name": "ipython",
    "version": 3
   },
   "file_extension": ".py",
   "mimetype": "text/x-python",
   "name": "python",
   "nbconvert_exporter": "python",
   "pygments_lexer": "ipython3",
   "version": "3.9.12"
  },
  "orig_nbformat": 4,
  "vscode": {
   "interpreter": {
    "hash": "dd1241ac4eed65a45190e69bb4e0488539c6a02b7763446597dcfaeef34563da"
   }
  }
 },
 "nbformat": 4,
 "nbformat_minor": 2
}
